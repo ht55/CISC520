{
 "cells": [
  {
   "cell_type": "markdown",
   "metadata": {},
   "source": [
    "# Weather Prediction with Clustering Analysis\n",
    "\n",
    "### Perform Cluster Analysis and Decision Tree induction algorithm on a weather forecast problem. It is a binary classification problem to predict whether or not a location will get rain the next day."
   ]
  },
  {
   "cell_type": "code",
   "execution_count": 1,
   "metadata": {},
   "outputs": [],
   "source": [
    "# Import Libraries\n",
    "import pandas as pd\n",
    "import numpy as np\n",
    "import matplotlib.pyplot as plt\n",
    "from sklearn import preprocessing\n",
    "import seaborn as sns\n",
    "from scipy.spatial import distance_matrix\n",
    "from sklearn.cluster import KMeans"
   ]
  },
  {
   "cell_type": "code",
   "execution_count": 2,
   "metadata": {
    "scrolled": false
   },
   "outputs": [
    {
     "data": {
      "text/html": [
       "<div>\n",
       "<style scoped>\n",
       "    .dataframe tbody tr th:only-of-type {\n",
       "        vertical-align: middle;\n",
       "    }\n",
       "\n",
       "    .dataframe tbody tr th {\n",
       "        vertical-align: top;\n",
       "    }\n",
       "\n",
       "    .dataframe thead th {\n",
       "        text-align: right;\n",
       "    }\n",
       "</style>\n",
       "<table border=\"1\" class=\"dataframe\">\n",
       "  <thead>\n",
       "    <tr style=\"text-align: right;\">\n",
       "      <th></th>\n",
       "      <th>Location</th>\n",
       "      <th>MinTemp</th>\n",
       "      <th>MaxTemp</th>\n",
       "      <th>Rainfall</th>\n",
       "      <th>Evaporation</th>\n",
       "      <th>Sunshine</th>\n",
       "      <th>WindGustDir</th>\n",
       "      <th>WindGustSpeed</th>\n",
       "      <th>WindDir</th>\n",
       "      <th>WindSpeed</th>\n",
       "      <th>Humidity</th>\n",
       "      <th>Pressure</th>\n",
       "      <th>Cloud</th>\n",
       "      <th>Temp</th>\n",
       "      <th>RainToday</th>\n",
       "      <th>RainTomorrow</th>\n",
       "    </tr>\n",
       "  </thead>\n",
       "  <tbody>\n",
       "    <tr>\n",
       "      <th>0</th>\n",
       "      <td>NorahHead</td>\n",
       "      <td>18.9</td>\n",
       "      <td>23.7</td>\n",
       "      <td>0.0</td>\n",
       "      <td>NaN</td>\n",
       "      <td>NaN</td>\n",
       "      <td>SSE</td>\n",
       "      <td>41.0</td>\n",
       "      <td>SSE</td>\n",
       "      <td>28.0</td>\n",
       "      <td>55.0</td>\n",
       "      <td>1026.0</td>\n",
       "      <td>NaN</td>\n",
       "      <td>22.4</td>\n",
       "      <td>No</td>\n",
       "      <td>Yes</td>\n",
       "    </tr>\n",
       "    <tr>\n",
       "      <th>1</th>\n",
       "      <td>Nuriootpa</td>\n",
       "      <td>11.1</td>\n",
       "      <td>20.8</td>\n",
       "      <td>0.0</td>\n",
       "      <td>4.8</td>\n",
       "      <td>8.3</td>\n",
       "      <td>W</td>\n",
       "      <td>39.0</td>\n",
       "      <td>WSW</td>\n",
       "      <td>26.0</td>\n",
       "      <td>48.0</td>\n",
       "      <td>1014.4</td>\n",
       "      <td>7.0</td>\n",
       "      <td>19.5</td>\n",
       "      <td>No</td>\n",
       "      <td>No</td>\n",
       "    </tr>\n",
       "    <tr>\n",
       "      <th>2</th>\n",
       "      <td>GoldCoast</td>\n",
       "      <td>15.9</td>\n",
       "      <td>19.5</td>\n",
       "      <td>17.6</td>\n",
       "      <td>NaN</td>\n",
       "      <td>NaN</td>\n",
       "      <td>SE</td>\n",
       "      <td>44.0</td>\n",
       "      <td>SW</td>\n",
       "      <td>9.0</td>\n",
       "      <td>99.0</td>\n",
       "      <td>1028.5</td>\n",
       "      <td>NaN</td>\n",
       "      <td>17.8</td>\n",
       "      <td>Yes</td>\n",
       "      <td>Yes</td>\n",
       "    </tr>\n",
       "    <tr>\n",
       "      <th>3</th>\n",
       "      <td>Bendigo</td>\n",
       "      <td>0.0</td>\n",
       "      <td>14.9</td>\n",
       "      <td>0.0</td>\n",
       "      <td>NaN</td>\n",
       "      <td>NaN</td>\n",
       "      <td>WSW</td>\n",
       "      <td>35.0</td>\n",
       "      <td>WNW</td>\n",
       "      <td>19.0</td>\n",
       "      <td>55.0</td>\n",
       "      <td>1023.0</td>\n",
       "      <td>4.0</td>\n",
       "      <td>14.2</td>\n",
       "      <td>No</td>\n",
       "      <td>Yes</td>\n",
       "    </tr>\n",
       "    <tr>\n",
       "      <th>4</th>\n",
       "      <td>Walpole</td>\n",
       "      <td>9.1</td>\n",
       "      <td>22.7</td>\n",
       "      <td>0.0</td>\n",
       "      <td>NaN</td>\n",
       "      <td>NaN</td>\n",
       "      <td>NNE</td>\n",
       "      <td>41.0</td>\n",
       "      <td>ESE</td>\n",
       "      <td>7.0</td>\n",
       "      <td>40.0</td>\n",
       "      <td>1027.1</td>\n",
       "      <td>NaN</td>\n",
       "      <td>22.5</td>\n",
       "      <td>No</td>\n",
       "      <td>No</td>\n",
       "    </tr>\n",
       "  </tbody>\n",
       "</table>\n",
       "</div>"
      ],
      "text/plain": [
       "    Location  MinTemp  MaxTemp  Rainfall  Evaporation  Sunshine WindGustDir  \\\n",
       "0  NorahHead     18.9     23.7       0.0          NaN       NaN         SSE   \n",
       "1  Nuriootpa     11.1     20.8       0.0          4.8       8.3           W   \n",
       "2  GoldCoast     15.9     19.5      17.6          NaN       NaN          SE   \n",
       "3    Bendigo      0.0     14.9       0.0          NaN       NaN         WSW   \n",
       "4    Walpole      9.1     22.7       0.0          NaN       NaN         NNE   \n",
       "\n",
       "   WindGustSpeed WindDir  WindSpeed  Humidity  Pressure  Cloud  Temp  \\\n",
       "0           41.0     SSE       28.0      55.0    1026.0    NaN  22.4   \n",
       "1           39.0     WSW       26.0      48.0    1014.4    7.0  19.5   \n",
       "2           44.0      SW        9.0      99.0    1028.5    NaN  17.8   \n",
       "3           35.0     WNW       19.0      55.0    1023.0    4.0  14.2   \n",
       "4           41.0     ESE        7.0      40.0    1027.1    NaN  22.5   \n",
       "\n",
       "  RainToday RainTomorrow  \n",
       "0        No          Yes  \n",
       "1        No           No  \n",
       "2       Yes          Yes  \n",
       "3        No          Yes  \n",
       "4        No           No  "
      ]
     },
     "execution_count": 2,
     "metadata": {},
     "output_type": "execute_result"
    }
   ],
   "source": [
    "# Import the training dataset\n",
    "Weather = pd.read_csv(\"Weather Forecast Training.csv\")\n",
    "Weather.head()"
   ]
  },
  {
   "cell_type": "code",
   "execution_count": 3,
   "metadata": {},
   "outputs": [
    {
     "data": {
      "text/plain": [
       "(51978, 16)"
      ]
     },
     "execution_count": 3,
     "metadata": {},
     "output_type": "execute_result"
    }
   ],
   "source": [
    "Weather.shape"
   ]
  },
  {
   "cell_type": "code",
   "execution_count": 4,
   "metadata": {},
   "outputs": [
    {
     "name": "stdout",
     "output_type": "stream",
     "text": [
      "<class 'pandas.core.frame.DataFrame'>\n",
      "RangeIndex: 51978 entries, 0 to 51977\n",
      "Data columns (total 16 columns):\n",
      " #   Column         Non-Null Count  Dtype  \n",
      "---  ------         --------------  -----  \n",
      " 0   Location       51978 non-null  object \n",
      " 1   MinTemp        51694 non-null  float64\n",
      " 2   MaxTemp        51849 non-null  float64\n",
      " 3   Rainfall       51231 non-null  float64\n",
      " 4   Evaporation    29425 non-null  float64\n",
      " 5   Sunshine       27103 non-null  float64\n",
      " 6   WindGustDir    48380 non-null  object \n",
      " 7   WindGustSpeed  48407 non-null  float64\n",
      " 8   WindDir        50465 non-null  object \n",
      " 9   WindSpeed      50954 non-null  float64\n",
      " 10  Humidity       50549 non-null  float64\n",
      " 11  Pressure       46912 non-null  float64\n",
      " 12  Cloud          31848 non-null  float64\n",
      " 13  Temp           50915 non-null  float64\n",
      " 14  RainToday      51231 non-null  object \n",
      " 15  RainTomorrow   51978 non-null  object \n",
      "dtypes: float64(11), object(5)\n",
      "memory usage: 6.3+ MB\n"
     ]
    }
   ],
   "source": [
    "# Check df types\n",
    "Weather.info()"
   ]
  },
  {
   "cell_type": "code",
   "execution_count": 5,
   "metadata": {},
   "outputs": [
    {
     "data": {
      "image/png": "[encoded data removed]",
      "text/plain": [
       "<Figure size 1080x1080 with 12 Axes>"
      ]
     },
     "metadata": {
      "needs_background": "light"
     },
     "output_type": "display_data"
    }
   ],
   "source": [
    "# Visualize the Data \n",
    "\n",
    "Weather.hist(bins=20,figsize = (15,15));"
   ]
  },
  {
   "cell_type": "code",
   "execution_count": 6,
   "metadata": {},
   "outputs": [
    {
     "data": {
      "image/png": "[encoded data removed]",
      "text/plain": [
       "<Figure size 432x288 with 2 Axes>"
      ]
     },
     "metadata": {
      "needs_background": "light"
     },
     "output_type": "display_data"
    }
   ],
   "source": [
    "Weather.corr()\n",
    "ax = sns.heatmap(Weather.corr())"
   ]
  },
  {
   "cell_type": "code",
   "execution_count": 7,
   "metadata": {},
   "outputs": [
    {
     "data": {
      "text/plain": [
       "Location             0\n",
       "MinTemp            284\n",
       "MaxTemp            129\n",
       "Rainfall           747\n",
       "Evaporation      22553\n",
       "Sunshine         24875\n",
       "WindGustDir       3598\n",
       "WindGustSpeed     3571\n",
       "WindDir           1513\n",
       "WindSpeed         1024\n",
       "Humidity          1429\n",
       "Pressure          5066\n",
       "Cloud            20130\n",
       "Temp              1063\n",
       "RainToday          747\n",
       "RainTomorrow         0\n",
       "dtype: int64"
      ]
     },
     "execution_count": 7,
     "metadata": {},
     "output_type": "execute_result"
    }
   ],
   "source": [
    "# Preprocessing - Remove null values\n",
    "Weather.isnull().sum(axis=0)"
   ]
  },
  {
   "cell_type": "code",
   "execution_count": 5,
   "metadata": {},
   "outputs": [],
   "source": [
    "from sklearn.impute import SimpleImputer \n",
    "imp = SimpleImputer(missing_values=np.nan, strategy='mean')\n",
    "\n",
    "imp = imp.fit(Weather[['MinTemp']])\n",
    "Weather['MinTemp'] = imp.transform(Weather[['MinTemp']]).ravel()\n",
    "\n",
    "imp = imp.fit(Weather[['MaxTemp']])\n",
    "Weather['MaxTemp'] = imp.transform(Weather[['MaxTemp']]).ravel()\n",
    "\n",
    "imp = imp.fit(Weather[['Rainfall']])\n",
    "Weather['Rainfall'] = imp.transform(Weather[['Rainfall']]).ravel()\n",
    "\n",
    "imp = imp.fit(Weather[['Evaporation']])\n",
    "Weather['Evaporation'] = imp.transform(Weather[['Evaporation']]).ravel()\n",
    "\n",
    "imp = imp.fit(Weather[['Sunshine']])\n",
    "Weather['Sunshine'] = imp.transform(Weather[['Sunshine']]).ravel()"
   ]
  },
  {
   "cell_type": "code",
   "execution_count": 6,
   "metadata": {},
   "outputs": [],
   "source": [
    "Weather.dropna(subset=['WindGustDir'], how='all', inplace=True)"
   ]
  },
  {
   "cell_type": "code",
   "execution_count": 7,
   "metadata": {},
   "outputs": [],
   "source": [
    "imp = imp.fit(Weather[['WindGustSpeed']])\n",
    "Weather['WindGustSpeed'] = imp.transform(Weather[['WindGustSpeed']]).ravel()"
   ]
  },
  {
   "cell_type": "code",
   "execution_count": 8,
   "metadata": {},
   "outputs": [],
   "source": [
    "Weather.dropna(subset=['WindDir'], how='all', inplace=True)"
   ]
  },
  {
   "cell_type": "code",
   "execution_count": 9,
   "metadata": {},
   "outputs": [],
   "source": [
    "imp = imp.fit(Weather[['Humidity']])\n",
    "Weather['Humidity'] = imp.transform(Weather[['Humidity']]).ravel()\n",
    "\n",
    "imp = imp.fit(Weather[['Pressure']])\n",
    "Weather['Pressure'] = imp.transform(Weather[['Pressure']]).ravel()\n",
    "\n",
    "imp = imp.fit(Weather[['Cloud']])\n",
    "Weather['Cloud'] = imp.transform(Weather[['Cloud']]).ravel()\n",
    "\n",
    "imp = imp.fit(Weather[['Temp']])\n",
    "Weather['Temp'] = imp.transform(Weather[['Temp']]).ravel()"
   ]
  },
  {
   "cell_type": "code",
   "execution_count": 10,
   "metadata": {},
   "outputs": [],
   "source": [
    "Weather.dropna(subset=['RainToday'], how='all', inplace=True)\n",
    "Weather.dropna(subset=['RainTomorrow'], how='all', inplace=True)"
   ]
  },
  {
   "cell_type": "code",
   "execution_count": 11,
   "metadata": {},
   "outputs": [
    {
     "data": {
      "text/plain": [
       "Location         0\n",
       "MinTemp          0\n",
       "MaxTemp          0\n",
       "Rainfall         0\n",
       "Evaporation      0\n",
       "Sunshine         0\n",
       "WindGustDir      0\n",
       "WindGustSpeed    0\n",
       "WindDir          0\n",
       "WindSpeed        0\n",
       "Humidity         0\n",
       "Pressure         0\n",
       "Cloud            0\n",
       "Temp             0\n",
       "RainToday        0\n",
       "RainTomorrow     0\n",
       "dtype: int64"
      ]
     },
     "execution_count": 11,
     "metadata": {},
     "output_type": "execute_result"
    }
   ],
   "source": [
    "Weather.isnull().sum(axis=0)"
   ]
  },
  {
   "cell_type": "code",
   "execution_count": 23,
   "metadata": {},
   "outputs": [
    {
     "data": {
      "text/plain": [
       "Index(['Location', 'WindGustDir', 'WindDir', 'RainToday', 'RainTomorrow'], dtype='object')"
      ]
     },
     "execution_count": 23,
     "metadata": {},
     "output_type": "execute_result"
    }
   ],
   "source": [
    "# Preprocessing - drop columns\n",
    "Weather.select_dtypes('object').columns"
   ]
  },
  {
   "cell_type": "code",
   "execution_count": 24,
   "metadata": {},
   "outputs": [],
   "source": [
    "Weather.drop(['Location', 'WindGustDir', 'WindDir', 'RainToday', 'RainTomorrow'], inplace=True, axis=1)"
   ]
  },
  {
   "cell_type": "code",
   "execution_count": 25,
   "metadata": {},
   "outputs": [
    {
     "data": {
      "text/html": [
       "<div>\n",
       "<style scoped>\n",
       "    .dataframe tbody tr th:only-of-type {\n",
       "        vertical-align: middle;\n",
       "    }\n",
       "\n",
       "    .dataframe tbody tr th {\n",
       "        vertical-align: top;\n",
       "    }\n",
       "\n",
       "    .dataframe thead th {\n",
       "        text-align: right;\n",
       "    }\n",
       "</style>\n",
       "<table border=\"1\" class=\"dataframe\">\n",
       "  <thead>\n",
       "    <tr style=\"text-align: right;\">\n",
       "      <th></th>\n",
       "      <th>MinTemp</th>\n",
       "      <th>MaxTemp</th>\n",
       "      <th>Rainfall</th>\n",
       "      <th>Evaporation</th>\n",
       "      <th>Sunshine</th>\n",
       "      <th>WindGustSpeed</th>\n",
       "      <th>WindSpeed</th>\n",
       "      <th>Humidity</th>\n",
       "      <th>Pressure</th>\n",
       "      <th>Cloud</th>\n",
       "      <th>Temp</th>\n",
       "    </tr>\n",
       "  </thead>\n",
       "  <tbody>\n",
       "    <tr>\n",
       "      <th>count</th>\n",
       "      <td>47345.000000</td>\n",
       "      <td>47345.000000</td>\n",
       "      <td>47345.000000</td>\n",
       "      <td>47345.000000</td>\n",
       "      <td>47345.000000</td>\n",
       "      <td>47345.000000</td>\n",
       "      <td>47345.000000</td>\n",
       "      <td>47345.000000</td>\n",
       "      <td>47345.000000</td>\n",
       "      <td>47345.000000</td>\n",
       "      <td>47345.000000</td>\n",
       "    </tr>\n",
       "    <tr>\n",
       "      <th>mean</th>\n",
       "      <td>0.511449</td>\n",
       "      <td>0.522804</td>\n",
       "      <td>0.012951</td>\n",
       "      <td>0.067474</td>\n",
       "      <td>0.452502</td>\n",
       "      <td>0.274051</td>\n",
       "      <td>0.240616</td>\n",
       "      <td>0.565545</td>\n",
       "      <td>0.611436</td>\n",
       "      <td>0.645435</td>\n",
       "      <td>0.501598</td>\n",
       "    </tr>\n",
       "    <tr>\n",
       "      <th>std</th>\n",
       "      <td>0.166824</td>\n",
       "      <td>0.140671</td>\n",
       "      <td>0.039176</td>\n",
       "      <td>0.040054</td>\n",
       "      <td>0.198759</td>\n",
       "      <td>0.113726</td>\n",
       "      <td>0.123532</td>\n",
       "      <td>0.220420</td>\n",
       "      <td>0.115019</td>\n",
       "      <td>0.257778</td>\n",
       "      <td>0.138393</td>\n",
       "    </tr>\n",
       "    <tr>\n",
       "      <th>min</th>\n",
       "      <td>0.000000</td>\n",
       "      <td>0.000000</td>\n",
       "      <td>0.000000</td>\n",
       "      <td>0.000000</td>\n",
       "      <td>0.000000</td>\n",
       "      <td>0.000000</td>\n",
       "      <td>0.000000</td>\n",
       "      <td>0.000000</td>\n",
       "      <td>0.000000</td>\n",
       "      <td>0.000000</td>\n",
       "      <td>0.000000</td>\n",
       "    </tr>\n",
       "    <tr>\n",
       "      <th>25%</th>\n",
       "      <td>0.388601</td>\n",
       "      <td>0.416830</td>\n",
       "      <td>0.000000</td>\n",
       "      <td>0.051746</td>\n",
       "      <td>0.450385</td>\n",
       "      <td>0.187500</td>\n",
       "      <td>0.152778</td>\n",
       "      <td>0.414141</td>\n",
       "      <td>0.537068</td>\n",
       "      <td>0.625000</td>\n",
       "      <td>0.398020</td>\n",
       "    </tr>\n",
       "    <tr>\n",
       "      <th>50%</th>\n",
       "      <td>0.505181</td>\n",
       "      <td>0.510763</td>\n",
       "      <td>0.000000</td>\n",
       "      <td>0.066980</td>\n",
       "      <td>0.450385</td>\n",
       "      <td>0.250000</td>\n",
       "      <td>0.236111</td>\n",
       "      <td>0.565692</td>\n",
       "      <td>0.611624</td>\n",
       "      <td>0.645784</td>\n",
       "      <td>0.491089</td>\n",
       "    </tr>\n",
       "    <tr>\n",
       "      <th>75%</th>\n",
       "      <td>0.634715</td>\n",
       "      <td>0.624266</td>\n",
       "      <td>0.007902</td>\n",
       "      <td>0.066980</td>\n",
       "      <td>0.510345</td>\n",
       "      <td>0.335938</td>\n",
       "      <td>0.305556</td>\n",
       "      <td>0.727273</td>\n",
       "      <td>0.683690</td>\n",
       "      <td>0.875000</td>\n",
       "      <td>0.598020</td>\n",
       "    </tr>\n",
       "    <tr>\n",
       "      <th>max</th>\n",
       "      <td>1.000000</td>\n",
       "      <td>1.000000</td>\n",
       "      <td>1.000000</td>\n",
       "      <td>1.000000</td>\n",
       "      <td>1.000000</td>\n",
       "      <td>1.000000</td>\n",
       "      <td>1.000000</td>\n",
       "      <td>1.000000</td>\n",
       "      <td>1.000000</td>\n",
       "      <td>1.000000</td>\n",
       "      <td>1.000000</td>\n",
       "    </tr>\n",
       "  </tbody>\n",
       "</table>\n",
       "</div>"
      ],
      "text/plain": [
       "            MinTemp       MaxTemp      Rainfall   Evaporation      Sunshine  \\\n",
       "count  47345.000000  47345.000000  47345.000000  47345.000000  47345.000000   \n",
       "mean       0.511449      0.522804      0.012951      0.067474      0.452502   \n",
       "std        0.166824      0.140671      0.039176      0.040054      0.198759   \n",
       "min        0.000000      0.000000      0.000000      0.000000      0.000000   \n",
       "25%        0.388601      0.416830      0.000000      0.051746      0.450385   \n",
       "50%        0.505181      0.510763      0.000000      0.066980      0.450385   \n",
       "75%        0.634715      0.624266      0.007902      0.066980      0.510345   \n",
       "max        1.000000      1.000000      1.000000      1.000000      1.000000   \n",
       "\n",
       "       WindGustSpeed     WindSpeed      Humidity      Pressure         Cloud  \\\n",
       "count   47345.000000  47345.000000  47345.000000  47345.000000  47345.000000   \n",
       "mean        0.274051      0.240616      0.565545      0.611436      0.645435   \n",
       "std         0.113726      0.123532      0.220420      0.115019      0.257778   \n",
       "min         0.000000      0.000000      0.000000      0.000000      0.000000   \n",
       "25%         0.187500      0.152778      0.414141      0.537068      0.625000   \n",
       "50%         0.250000      0.236111      0.565692      0.611624      0.645784   \n",
       "75%         0.335938      0.305556      0.727273      0.683690      0.875000   \n",
       "max         1.000000      1.000000      1.000000      1.000000      1.000000   \n",
       "\n",
       "               Temp  \n",
       "count  47345.000000  \n",
       "mean       0.501598  \n",
       "std        0.138393  \n",
       "min        0.000000  \n",
       "25%        0.398020  \n",
       "50%        0.491089  \n",
       "75%        0.598020  \n",
       "max        1.000000  "
      ]
     },
     "execution_count": 25,
     "metadata": {},
     "output_type": "execute_result"
    }
   ],
   "source": [
    "# Preprocessing - scaling & normalizing\n",
    "\n",
    "min_max_scaler = preprocessing.MinMaxScaler()\n",
    "np_scaled = min_max_scaler.fit_transform(Weather)\n",
    "df_normalized = pd.DataFrame(np_scaled, columns=Weather.columns, index=Weather.index)\n",
    "df_normalized.describe()"
   ]
  },
  {
   "cell_type": "code",
   "execution_count": 26,
   "metadata": {},
   "outputs": [
    {
     "data": {
      "text/plain": [
       "array([0, 0, 0, ..., 0, 0, 1], dtype=int32)"
      ]
     },
     "execution_count": 26,
     "metadata": {},
     "output_type": "execute_result"
    }
   ],
   "source": [
    "# KMeans Clustering using *sklearn*\n",
    "\n",
    "kmeans = KMeans(n_clusters=2, n_init=25, max_iter=100, random_state=6)\n",
    "kmeans.fit(df_normalized)\n",
    "kmeans.__dict__.keys()\n",
    "kmeans.labels_"
   ]
  },
  {
   "cell_type": "code",
   "execution_count": 27,
   "metadata": {},
   "outputs": [],
   "source": [
    "# Scaling continuous features\n",
    "\n",
    "from sklearn.preprocessing import MinMaxScaler\n",
    "mms = MinMaxScaler()\n",
    "mms.fit(Weather)\n",
    "transformed_data = mms.transform(Weather)"
   ]
  },
  {
   "cell_type": "code",
   "execution_count": 28,
   "metadata": {},
   "outputs": [],
   "source": [
    "# Elbow Method\n",
    "\n",
    "Sum_of_squared_distances = []\n",
    "K = range(1,10)\n",
    "for k in K:\n",
    "    km = KMeans(n_clusters=k)\n",
    "    km = km.fit(transformed_data)\n",
    "    Sum_of_squared_distances.append(km.inertia_)"
   ]
  },
  {
   "cell_type": "code",
   "execution_count": 29,
   "metadata": {},
   "outputs": [
    {
     "data": {
      "image/png": "[encoded data removed]",
      "text/plain": [
       "<Figure size 432x288 with 1 Axes>"
      ]
     },
     "metadata": {
      "needs_background": "light"
     },
     "output_type": "display_data"
    }
   ],
   "source": [
    "plt.plot(K, Sum_of_squared_distances, 'bx-')\n",
    "plt.xlabel('k')\n",
    "plt.ylabel('Sum_of_squared_distances')\n",
    "plt.title('Elbow Method For Optimal k')\n",
    "plt.show()"
   ]
  },
  {
   "cell_type": "code",
   "execution_count": null,
   "metadata": {},
   "outputs": [],
   "source": [
    "# k=5"
   ]
  },
  {
   "cell_type": "code",
   "execution_count": null,
   "metadata": {},
   "outputs": [],
   "source": [
    "# Dendrogram\n",
    "\n",
    "from scipy.cluster.hierarchy import ward, dendrogram\n",
    "\n",
    "linkage_matrix = ward(transformed_data)\n",
    "\n",
    "fig, ax = plt.subplots(figsize=(6, 6))\n",
    "ax.grid(False)\n",
    "ax.set_title('Cluster Dendrogram', fontsize = 25)\n",
    "ax = dendrogram(linkage_matrix, orientation='top', labels=transformed_data.index)\n",
    "plt.xticks(fontsize=8)\n",
    "plt.show()"
   ]
  },
  {
   "cell_type": "markdown",
   "metadata": {},
   "source": []
  },
  {
   "cell_type": "markdown",
   "metadata": {},
   "source": [
    "# Decision Tree Model"
   ]
  },
  {
   "cell_type": "code",
   "execution_count": 1,
   "metadata": {},
   "outputs": [],
   "source": [
    "# Import libraries\n",
    "\n",
    "import pandas as pd\n",
    "import numpy as np\n",
    "from sklearn.tree import DecisionTreeClassifier\n",
    "from sklearn.model_selection import train_test_split, GridSearchCV\n",
    "from sklearn import metrics\n",
    "from sklearn import tree\n",
    "np.random.seed(66)"
   ]
  },
  {
   "cell_type": "code",
   "execution_count": 8,
   "metadata": {},
   "outputs": [],
   "source": [
    "# Import training datasets\n",
    "test_raw = pd.read_csv('~/Desktop/CISC520/520 HW1/Weather Forecast Testing.csv')\n",
    "test_n = len(test_raw)\n",
    "train_raw = pd.read_csv('~/Desktop/CISC520/520 HW1/Weather Forecast Training.csv')\n",
    "df = pd.concat([test_raw, train_raw])\n",
    "df = df.drop(columns=['ID', 'RainTomorrow'])"
   ]
  },
  {
   "cell_type": "code",
   "execution_count": 9,
   "metadata": {},
   "outputs": [
    {
     "data": {
      "text/plain": [
       "Location          0.000000\n",
       "MinTemp           0.509450\n",
       "MaxTemp           0.226251\n",
       "Rainfall          1.397525\n",
       "Evaporation      43.201687\n",
       "Sunshine         47.665148\n",
       "WindGustDir       6.967617\n",
       "WindGustSpeed     6.912208\n",
       "WindDir           2.924337\n",
       "WindSpeed         1.977775\n",
       "Humidity          2.736563\n",
       "Pressure          9.787293\n",
       "Cloud            38.708982\n",
       "Temp              2.047036\n",
       "RainToday         1.397525\n",
       "dtype: float64"
      ]
     },
     "execution_count": 9,
     "metadata": {},
     "output_type": "execute_result"
    }
   ],
   "source": [
    "# Check missing values\n",
    "df.isna().sum() / len(df) * 100"
   ]
  },
  {
   "cell_type": "code",
   "execution_count": 10,
   "metadata": {},
   "outputs": [],
   "source": [
    "# Remove missinng values\n",
    "df = df.drop(columns=['Cloud', 'Sunshine', 'Evaporation'])"
   ]
  },
  {
   "cell_type": "code",
   "execution_count": 11,
   "metadata": {},
   "outputs": [
    {
     "name": "stdout",
     "output_type": "stream",
     "text": [
      "<class 'pandas.core.frame.DataFrame'>\n",
      "Int64Index: 64972 entries, 0 to 51977\n",
      "Data columns (total 12 columns):\n",
      " #   Column         Non-Null Count  Dtype  \n",
      "---  ------         --------------  -----  \n",
      " 0   Location       64972 non-null  object \n",
      " 1   MinTemp        64641 non-null  float64\n",
      " 2   MaxTemp        64825 non-null  float64\n",
      " 3   Rainfall       64064 non-null  float64\n",
      " 4   WindGustDir    60445 non-null  object \n",
      " 5   WindGustSpeed  60481 non-null  float64\n",
      " 6   WindDir        63072 non-null  object \n",
      " 7   WindSpeed      63687 non-null  float64\n",
      " 8   Humidity       63194 non-null  float64\n",
      " 9   Pressure       58613 non-null  float64\n",
      " 10  Temp           63642 non-null  float64\n",
      " 11  RainToday      64064 non-null  object \n",
      "dtypes: float64(8), object(4)\n",
      "memory usage: 6.4+ MB\n"
     ]
    }
   ],
   "source": [
    "df.info()"
   ]
  },
  {
   "cell_type": "code",
   "execution_count": 12,
   "metadata": {},
   "outputs": [],
   "source": [
    "num_df = df.select_dtypes('float64')\n",
    "cat_df = df.select_dtypes('object')"
   ]
  },
  {
   "cell_type": "code",
   "execution_count": 13,
   "metadata": {},
   "outputs": [],
   "source": [
    "# Impute missing values with k-Nearest Neighbors\n",
    "from sklearn.impute import KNNImputer\n",
    "imputer = KNNImputer(n_neighbors=2)\n",
    "imp_df = imputer.fit_transform(num_df)"
   ]
  },
  {
   "cell_type": "code",
   "execution_count": 14,
   "metadata": {},
   "outputs": [],
   "source": [
    "num_df = pd.DataFrame(imp_df, columns=num_df.columns)"
   ]
  },
  {
   "cell_type": "code",
   "execution_count": 15,
   "metadata": {},
   "outputs": [],
   "source": [
    "from sklearn.impute import SimpleImputer\n",
    "imputer = SimpleImputer(strategy='most_frequent')\n",
    "imp_cat_df = imputer.fit_transform(cat_df)\n",
    "cat_df = pd.DataFrame(imp_cat_df, columns=cat_df.columns)"
   ]
  },
  {
   "cell_type": "code",
   "execution_count": 16,
   "metadata": {},
   "outputs": [],
   "source": [
    "cat_df = pd.get_dummies(cat_df)"
   ]
  },
  {
   "cell_type": "code",
   "execution_count": 21,
   "metadata": {},
   "outputs": [],
   "source": [
    "df2 = pd.concat([num_df, cat_df], axis=1)\n",
    "test = df2[:test_n]\n",
    "train = df2[test_n:]"
   ]
  },
  {
   "cell_type": "code",
   "execution_count": 25,
   "metadata": {},
   "outputs": [
    {
     "data": {
      "text/html": [
       "<div>\n",
       "<style scoped>\n",
       "    .dataframe tbody tr th:only-of-type {\n",
       "        vertical-align: middle;\n",
       "    }\n",
       "\n",
       "    .dataframe tbody tr th {\n",
       "        vertical-align: top;\n",
       "    }\n",
       "\n",
       "    .dataframe thead th {\n",
       "        text-align: right;\n",
       "    }\n",
       "</style>\n",
       "<table border=\"1\" class=\"dataframe\">\n",
       "  <thead>\n",
       "    <tr style=\"text-align: right;\">\n",
       "      <th></th>\n",
       "      <th>MinTemp</th>\n",
       "      <th>MaxTemp</th>\n",
       "      <th>Rainfall</th>\n",
       "      <th>WindGustSpeed</th>\n",
       "      <th>WindSpeed</th>\n",
       "      <th>Humidity</th>\n",
       "      <th>Pressure</th>\n",
       "      <th>Temp</th>\n",
       "      <th>Location_Adelaide</th>\n",
       "      <th>Location_Albany</th>\n",
       "      <th>...</th>\n",
       "      <th>WindDir_S</th>\n",
       "      <th>WindDir_SE</th>\n",
       "      <th>WindDir_SSE</th>\n",
       "      <th>WindDir_SSW</th>\n",
       "      <th>WindDir_SW</th>\n",
       "      <th>WindDir_W</th>\n",
       "      <th>WindDir_WNW</th>\n",
       "      <th>WindDir_WSW</th>\n",
       "      <th>RainToday_No</th>\n",
       "      <th>RainToday_Yes</th>\n",
       "    </tr>\n",
       "  </thead>\n",
       "  <tbody>\n",
       "    <tr>\n",
       "      <th>0</th>\n",
       "      <td>15.3</td>\n",
       "      <td>21.5</td>\n",
       "      <td>4.4</td>\n",
       "      <td>70.0</td>\n",
       "      <td>22.0</td>\n",
       "      <td>69.0</td>\n",
       "      <td>997.6</td>\n",
       "      <td>19.8</td>\n",
       "      <td>0</td>\n",
       "      <td>0</td>\n",
       "      <td>...</td>\n",
       "      <td>0</td>\n",
       "      <td>0</td>\n",
       "      <td>0</td>\n",
       "      <td>0</td>\n",
       "      <td>0</td>\n",
       "      <td>1</td>\n",
       "      <td>0</td>\n",
       "      <td>0</td>\n",
       "      <td>0</td>\n",
       "      <td>1</td>\n",
       "    </tr>\n",
       "    <tr>\n",
       "      <th>1</th>\n",
       "      <td>7.1</td>\n",
       "      <td>11.0</td>\n",
       "      <td>38.8</td>\n",
       "      <td>48.0</td>\n",
       "      <td>19.0</td>\n",
       "      <td>46.0</td>\n",
       "      <td>1014.0</td>\n",
       "      <td>10.7</td>\n",
       "      <td>0</td>\n",
       "      <td>0</td>\n",
       "      <td>...</td>\n",
       "      <td>0</td>\n",
       "      <td>0</td>\n",
       "      <td>0</td>\n",
       "      <td>0</td>\n",
       "      <td>1</td>\n",
       "      <td>0</td>\n",
       "      <td>0</td>\n",
       "      <td>0</td>\n",
       "      <td>0</td>\n",
       "      <td>1</td>\n",
       "    </tr>\n",
       "    <tr>\n",
       "      <th>2</th>\n",
       "      <td>3.6</td>\n",
       "      <td>16.6</td>\n",
       "      <td>0.2</td>\n",
       "      <td>37.0</td>\n",
       "      <td>15.0</td>\n",
       "      <td>48.0</td>\n",
       "      <td>1016.6</td>\n",
       "      <td>15.4</td>\n",
       "      <td>0</td>\n",
       "      <td>0</td>\n",
       "      <td>...</td>\n",
       "      <td>0</td>\n",
       "      <td>0</td>\n",
       "      <td>0</td>\n",
       "      <td>0</td>\n",
       "      <td>0</td>\n",
       "      <td>0</td>\n",
       "      <td>0</td>\n",
       "      <td>0</td>\n",
       "      <td>1</td>\n",
       "      <td>0</td>\n",
       "    </tr>\n",
       "    <tr>\n",
       "      <th>3</th>\n",
       "      <td>17.6</td>\n",
       "      <td>37.4</td>\n",
       "      <td>0.0</td>\n",
       "      <td>37.0</td>\n",
       "      <td>19.0</td>\n",
       "      <td>11.0</td>\n",
       "      <td>1010.4</td>\n",
       "      <td>34.6</td>\n",
       "      <td>0</td>\n",
       "      <td>0</td>\n",
       "      <td>...</td>\n",
       "      <td>0</td>\n",
       "      <td>0</td>\n",
       "      <td>0</td>\n",
       "      <td>0</td>\n",
       "      <td>0</td>\n",
       "      <td>0</td>\n",
       "      <td>0</td>\n",
       "      <td>0</td>\n",
       "      <td>1</td>\n",
       "      <td>0</td>\n",
       "    </tr>\n",
       "    <tr>\n",
       "      <th>4</th>\n",
       "      <td>11.4</td>\n",
       "      <td>25.6</td>\n",
       "      <td>0.0</td>\n",
       "      <td>31.0</td>\n",
       "      <td>13.0</td>\n",
       "      <td>52.0</td>\n",
       "      <td>1016.4</td>\n",
       "      <td>24.3</td>\n",
       "      <td>0</td>\n",
       "      <td>0</td>\n",
       "      <td>...</td>\n",
       "      <td>0</td>\n",
       "      <td>0</td>\n",
       "      <td>1</td>\n",
       "      <td>0</td>\n",
       "      <td>0</td>\n",
       "      <td>0</td>\n",
       "      <td>0</td>\n",
       "      <td>0</td>\n",
       "      <td>1</td>\n",
       "      <td>0</td>\n",
       "    </tr>\n",
       "  </tbody>\n",
       "</table>\n",
       "<p>5 rows × 91 columns</p>\n",
       "</div>"
      ],
      "text/plain": [
       "   MinTemp  MaxTemp  Rainfall  WindGustSpeed  WindSpeed  Humidity  Pressure  \\\n",
       "0     15.3     21.5       4.4           70.0       22.0      69.0     997.6   \n",
       "1      7.1     11.0      38.8           48.0       19.0      46.0    1014.0   \n",
       "2      3.6     16.6       0.2           37.0       15.0      48.0    1016.6   \n",
       "3     17.6     37.4       0.0           37.0       19.0      11.0    1010.4   \n",
       "4     11.4     25.6       0.0           31.0       13.0      52.0    1016.4   \n",
       "\n",
       "   Temp  Location_Adelaide  Location_Albany  ...  WindDir_S  WindDir_SE  \\\n",
       "0  19.8                  0                0  ...          0           0   \n",
       "1  10.7                  0                0  ...          0           0   \n",
       "2  15.4                  0                0  ...          0           0   \n",
       "3  34.6                  0                0  ...          0           0   \n",
       "4  24.3                  0                0  ...          0           0   \n",
       "\n",
       "   WindDir_SSE  WindDir_SSW  WindDir_SW  WindDir_W  WindDir_WNW  WindDir_WSW  \\\n",
       "0            0            0           0          1            0            0   \n",
       "1            0            0           1          0            0            0   \n",
       "2            0            0           0          0            0            0   \n",
       "3            0            0           0          0            0            0   \n",
       "4            1            0           0          0            0            0   \n",
       "\n",
       "   RainToday_No  RainToday_Yes  \n",
       "0             0              1  \n",
       "1             0              1  \n",
       "2             1              0  \n",
       "3             1              0  \n",
       "4             1              0  \n",
       "\n",
       "[5 rows x 91 columns]"
      ]
     },
     "execution_count": 25,
     "metadata": {},
     "output_type": "execute_result"
    }
   ],
   "source": [
    "df2.head()"
   ]
  },
  {
   "cell_type": "code",
   "execution_count": 22,
   "metadata": {},
   "outputs": [],
   "source": [
    "# Train the data\n",
    "from sklearn import tree\n",
    "X = train\n",
    "y = train_raw['RainTomorrow']\n",
    "\n",
    "# Use Classifier model\n",
    "clf = tree.DecisionTreeClassifier()\n",
    "clf = clf.fit(X, y)"
   ]
  },
  {
   "cell_type": "code",
   "execution_count": 23,
   "metadata": {},
   "outputs": [
    {
     "data": {
      "text/plain": [
       "DecisionTreeClassifier()"
      ]
     },
     "execution_count": 23,
     "metadata": {},
     "output_type": "execute_result"
    }
   ],
   "source": [
    "clf"
   ]
  },
  {
   "cell_type": "code",
   "execution_count": 24,
   "metadata": {},
   "outputs": [
    {
     "data": {
      "text/plain": [
       "array(['Yes', 'No', 'Yes', ..., 'No', 'No', 'No'], dtype=object)"
      ]
     },
     "execution_count": 24,
     "metadata": {},
     "output_type": "execute_result"
    }
   ],
   "source": [
    "# Predict \"RainTomorrow\"\n",
    "RT = clf.predict(test)\n",
    "RT"
   ]
  },
  {
   "cell_type": "markdown",
   "metadata": {},
   "source": [
    "# Naive Bayes Classification"
   ]
  },
  {
   "cell_type": "code",
   "execution_count": null,
   "metadata": {},
   "outputs": [],
   "source": [
    "# Naive Bayes Classification\n",
    "\n",
    "from sklearn.naive_bayes import GaussianNB\n",
    "nb = GaussianNB()\n",
    "nb = nb.fit(X, y)\n",
    "nb.predict(test)"
   ]
  },
  {
   "cell_type": "markdown",
   "metadata": {},
   "source": [
    "# Clustering Analysis #2"
   ]
  },
  {
   "cell_type": "code",
   "execution_count": null,
   "metadata": {},
   "outputs": [],
   "source": [
    "# Once again with Clustering with this trained model\n",
    "\n",
    "from sklearn.cluster import KMeans\n",
    "kmeans = KMeans(n_clusters=2, random_state=0).fit(X)\n",
    "kmeans.predict(test)"
   ]
  },
  {
   "cell_type": "code",
   "execution_count": 53,
   "metadata": {},
   "outputs": [
    {
     "name": "stdout",
     "output_type": "stream",
     "text": [
      "No Skill: ROC AUC=0.500\n",
      "Logistic: ROC AUC=0.903\n"
     ]
    },
    {
     "data": {
      "image/png": "[encoded data removed]",
      "text/plain": [
       "<Figure size 432x288 with 1 Axes>"
      ]
     },
     "metadata": {
      "needs_background": "light"
     },
     "output_type": "display_data"
    }
   ],
   "source": [
    "# Try plotting ROC & AUC curves\n",
    "\n",
    "from sklearn.datasets import make_classification\n",
    "from sklearn.linear_model import LogisticRegression\n",
    "from sklearn.model_selection import train_test_split\n",
    "from sklearn.metrics import roc_curve\n",
    "from sklearn.metrics import roc_auc_score\n",
    "from matplotlib import pyplot\n",
    "\n",
    "# generate 2 class dataset\n",
    "X, y = make_classification(n_samples=1000, n_classes=2, random_state=1)\n",
    "# split into train/test sets\n",
    "trainX, testX, trainy, testy = train_test_split(X, y, test_size=0.5, random_state=2)\n",
    "# generate a no skill prediction (majority class)\n",
    "ns_probs = [0 for _ in range(len(testy))]\n",
    "# fit a model\n",
    "model = LogisticRegression(solver='lbfgs')\n",
    "model.fit(trainX, trainy)\n",
    "# predict probabilities\n",
    "lr_probs = model.predict_proba(testX)\n",
    "# keep probabilities for the positive outcome only\n",
    "lr_probs = lr_probs[:, 1]\n",
    "# calculate scores\n",
    "ns_auc = roc_auc_score(testy, ns_probs)\n",
    "lr_auc = roc_auc_score(testy, lr_probs)\n",
    "# summarize scores\n",
    "print('No Skill: ROC AUC=%.3f' % (ns_auc))\n",
    "print('Logistic: ROC AUC=%.3f' % (lr_auc))\n",
    "# calculate roc curves\n",
    "ns_fpr, ns_tpr, _ = roc_curve(testy, ns_probs)\n",
    "lr_fpr, lr_tpr, _ = roc_curve(testy, lr_probs)\n",
    "# plot the roc curve for the model\n",
    "pyplot.plot(ns_fpr, ns_tpr, linestyle='--', label='No Skill')\n",
    "pyplot.plot(lr_fpr, lr_tpr, marker='.', label='Logistic')\n",
    "# axis labels\n",
    "pyplot.xlabel('False Positive Rate')\n",
    "pyplot.ylabel('True Positive Rate')\n",
    "# show the legend\n",
    "pyplot.legend()\n",
    "# show the plot\n",
    "pyplot.show()"
   ]
  },
  {
   "cell_type": "code",
   "execution_count": 48,
   "metadata": {},
   "outputs": [
    {
     "data": {
      "text/html": [
       "<div>\n",
       "<style scoped>\n",
       "    .dataframe tbody tr th:only-of-type {\n",
       "        vertical-align: middle;\n",
       "    }\n",
       "\n",
       "    .dataframe tbody tr th {\n",
       "        vertical-align: top;\n",
       "    }\n",
       "\n",
       "    .dataframe thead th {\n",
       "        text-align: right;\n",
       "    }\n",
       "</style>\n",
       "<table border=\"1\" class=\"dataframe\">\n",
       "  <thead>\n",
       "    <tr style=\"text-align: right;\">\n",
       "      <th></th>\n",
       "      <th>ID</th>\n",
       "      <th>Location</th>\n",
       "      <th>MinTemp</th>\n",
       "      <th>MaxTemp</th>\n",
       "      <th>Rainfall</th>\n",
       "      <th>Evaporation</th>\n",
       "      <th>Sunshine</th>\n",
       "      <th>WindGustDir</th>\n",
       "      <th>WindGustSpeed</th>\n",
       "      <th>WindDir</th>\n",
       "      <th>WindSpeed</th>\n",
       "      <th>Humidity</th>\n",
       "      <th>Pressure</th>\n",
       "      <th>Cloud</th>\n",
       "      <th>Temp</th>\n",
       "      <th>RainToday</th>\n",
       "      <th>RainTomorrow</th>\n",
       "    </tr>\n",
       "  </thead>\n",
       "  <tbody>\n",
       "    <tr>\n",
       "      <th>0</th>\n",
       "      <td>1</td>\n",
       "      <td>Perth</td>\n",
       "      <td>15.3</td>\n",
       "      <td>21.5</td>\n",
       "      <td>4.4</td>\n",
       "      <td>2.4</td>\n",
       "      <td>1.4</td>\n",
       "      <td>NW</td>\n",
       "      <td>70.0</td>\n",
       "      <td>W</td>\n",
       "      <td>22.0</td>\n",
       "      <td>69.0</td>\n",
       "      <td>997.6</td>\n",
       "      <td>7.0</td>\n",
       "      <td>19.8</td>\n",
       "      <td>Yes</td>\n",
       "      <td>Yes</td>\n",
       "    </tr>\n",
       "    <tr>\n",
       "      <th>1</th>\n",
       "      <td>2</td>\n",
       "      <td>Portland</td>\n",
       "      <td>7.1</td>\n",
       "      <td>11.0</td>\n",
       "      <td>38.8</td>\n",
       "      <td>1.2</td>\n",
       "      <td>5.8</td>\n",
       "      <td>SSE</td>\n",
       "      <td>48.0</td>\n",
       "      <td>SW</td>\n",
       "      <td>19.0</td>\n",
       "      <td>46.0</td>\n",
       "      <td>1014.0</td>\n",
       "      <td>4.0</td>\n",
       "      <td>10.7</td>\n",
       "      <td>Yes</td>\n",
       "      <td>No</td>\n",
       "    </tr>\n",
       "    <tr>\n",
       "      <th>2</th>\n",
       "      <td>3</td>\n",
       "      <td>Hobart</td>\n",
       "      <td>3.6</td>\n",
       "      <td>16.6</td>\n",
       "      <td>0.2</td>\n",
       "      <td>2.8</td>\n",
       "      <td>9.3</td>\n",
       "      <td>NW</td>\n",
       "      <td>37.0</td>\n",
       "      <td>N</td>\n",
       "      <td>15.0</td>\n",
       "      <td>48.0</td>\n",
       "      <td>1016.6</td>\n",
       "      <td>5.0</td>\n",
       "      <td>15.4</td>\n",
       "      <td>No</td>\n",
       "      <td>Yes</td>\n",
       "    </tr>\n",
       "    <tr>\n",
       "      <th>3</th>\n",
       "      <td>4</td>\n",
       "      <td>Woomera</td>\n",
       "      <td>17.6</td>\n",
       "      <td>37.4</td>\n",
       "      <td>0.0</td>\n",
       "      <td>34.0</td>\n",
       "      <td>NaN</td>\n",
       "      <td>NNW</td>\n",
       "      <td>37.0</td>\n",
       "      <td>NW</td>\n",
       "      <td>19.0</td>\n",
       "      <td>11.0</td>\n",
       "      <td>1010.4</td>\n",
       "      <td>2.0</td>\n",
       "      <td>34.6</td>\n",
       "      <td>No</td>\n",
       "      <td>No</td>\n",
       "    </tr>\n",
       "    <tr>\n",
       "      <th>4</th>\n",
       "      <td>5</td>\n",
       "      <td>Townsville</td>\n",
       "      <td>11.4</td>\n",
       "      <td>25.6</td>\n",
       "      <td>0.0</td>\n",
       "      <td>6.0</td>\n",
       "      <td>2.8</td>\n",
       "      <td>ESE</td>\n",
       "      <td>31.0</td>\n",
       "      <td>SSE</td>\n",
       "      <td>13.0</td>\n",
       "      <td>52.0</td>\n",
       "      <td>1016.4</td>\n",
       "      <td>7.0</td>\n",
       "      <td>24.3</td>\n",
       "      <td>No</td>\n",
       "      <td>No</td>\n",
       "    </tr>\n",
       "    <tr>\n",
       "      <th>...</th>\n",
       "      <td>...</td>\n",
       "      <td>...</td>\n",
       "      <td>...</td>\n",
       "      <td>...</td>\n",
       "      <td>...</td>\n",
       "      <td>...</td>\n",
       "      <td>...</td>\n",
       "      <td>...</td>\n",
       "      <td>...</td>\n",
       "      <td>...</td>\n",
       "      <td>...</td>\n",
       "      <td>...</td>\n",
       "      <td>...</td>\n",
       "      <td>...</td>\n",
       "      <td>...</td>\n",
       "      <td>...</td>\n",
       "      <td>...</td>\n",
       "    </tr>\n",
       "    <tr>\n",
       "      <th>12989</th>\n",
       "      <td>12990</td>\n",
       "      <td>Penrith</td>\n",
       "      <td>9.4</td>\n",
       "      <td>17.0</td>\n",
       "      <td>0.2</td>\n",
       "      <td>NaN</td>\n",
       "      <td>NaN</td>\n",
       "      <td>SW</td>\n",
       "      <td>41.0</td>\n",
       "      <td>SW</td>\n",
       "      <td>19.0</td>\n",
       "      <td>35.0</td>\n",
       "      <td>NaN</td>\n",
       "      <td>NaN</td>\n",
       "      <td>16.1</td>\n",
       "      <td>No</td>\n",
       "      <td>No</td>\n",
       "    </tr>\n",
       "    <tr>\n",
       "      <th>12990</th>\n",
       "      <td>12991</td>\n",
       "      <td>Canberra</td>\n",
       "      <td>8.4</td>\n",
       "      <td>29.3</td>\n",
       "      <td>0.0</td>\n",
       "      <td>4.8</td>\n",
       "      <td>11.6</td>\n",
       "      <td>NNW</td>\n",
       "      <td>41.0</td>\n",
       "      <td>NW</td>\n",
       "      <td>26.0</td>\n",
       "      <td>23.0</td>\n",
       "      <td>1017.9</td>\n",
       "      <td>3.0</td>\n",
       "      <td>27.7</td>\n",
       "      <td>No</td>\n",
       "      <td>No</td>\n",
       "    </tr>\n",
       "    <tr>\n",
       "      <th>12991</th>\n",
       "      <td>12992</td>\n",
       "      <td>Dartmoor</td>\n",
       "      <td>10.4</td>\n",
       "      <td>20.4</td>\n",
       "      <td>0.0</td>\n",
       "      <td>2.6</td>\n",
       "      <td>3.0</td>\n",
       "      <td>WNW</td>\n",
       "      <td>52.0</td>\n",
       "      <td>NNW</td>\n",
       "      <td>26.0</td>\n",
       "      <td>45.0</td>\n",
       "      <td>1013.3</td>\n",
       "      <td>NaN</td>\n",
       "      <td>18.6</td>\n",
       "      <td>No</td>\n",
       "      <td>No</td>\n",
       "    </tr>\n",
       "    <tr>\n",
       "      <th>12992</th>\n",
       "      <td>12993</td>\n",
       "      <td>PearceRAAF</td>\n",
       "      <td>7.6</td>\n",
       "      <td>20.3</td>\n",
       "      <td>1.0</td>\n",
       "      <td>NaN</td>\n",
       "      <td>10.2</td>\n",
       "      <td>WNW</td>\n",
       "      <td>37.0</td>\n",
       "      <td>NNW</td>\n",
       "      <td>20.0</td>\n",
       "      <td>47.0</td>\n",
       "      <td>1020.3</td>\n",
       "      <td>4.0</td>\n",
       "      <td>20.0</td>\n",
       "      <td>No</td>\n",
       "      <td>No</td>\n",
       "    </tr>\n",
       "    <tr>\n",
       "      <th>12993</th>\n",
       "      <td>12994</td>\n",
       "      <td>NorfolkIsland</td>\n",
       "      <td>15.5</td>\n",
       "      <td>20.2</td>\n",
       "      <td>71.6</td>\n",
       "      <td>NaN</td>\n",
       "      <td>7.9</td>\n",
       "      <td>NNW</td>\n",
       "      <td>67.0</td>\n",
       "      <td>NW</td>\n",
       "      <td>17.0</td>\n",
       "      <td>64.0</td>\n",
       "      <td>1010.2</td>\n",
       "      <td>1.0</td>\n",
       "      <td>19.9</td>\n",
       "      <td>Yes</td>\n",
       "      <td>No</td>\n",
       "    </tr>\n",
       "  </tbody>\n",
       "</table>\n",
       "<p>12994 rows × 17 columns</p>\n",
       "</div>"
      ],
      "text/plain": [
       "          ID       Location  MinTemp  MaxTemp  Rainfall  Evaporation  \\\n",
       "0          1          Perth     15.3     21.5       4.4          2.4   \n",
       "1          2       Portland      7.1     11.0      38.8          1.2   \n",
       "2          3         Hobart      3.6     16.6       0.2          2.8   \n",
       "3          4        Woomera     17.6     37.4       0.0         34.0   \n",
       "4          5     Townsville     11.4     25.6       0.0          6.0   \n",
       "...      ...            ...      ...      ...       ...          ...   \n",
       "12989  12990        Penrith      9.4     17.0       0.2          NaN   \n",
       "12990  12991       Canberra      8.4     29.3       0.0          4.8   \n",
       "12991  12992       Dartmoor     10.4     20.4       0.0          2.6   \n",
       "12992  12993     PearceRAAF      7.6     20.3       1.0          NaN   \n",
       "12993  12994  NorfolkIsland     15.5     20.2      71.6          NaN   \n",
       "\n",
       "       Sunshine WindGustDir  WindGustSpeed WindDir  WindSpeed  Humidity  \\\n",
       "0           1.4          NW           70.0       W       22.0      69.0   \n",
       "1           5.8         SSE           48.0      SW       19.0      46.0   \n",
       "2           9.3          NW           37.0       N       15.0      48.0   \n",
       "3           NaN         NNW           37.0      NW       19.0      11.0   \n",
       "4           2.8         ESE           31.0     SSE       13.0      52.0   \n",
       "...         ...         ...            ...     ...        ...       ...   \n",
       "12989       NaN          SW           41.0      SW       19.0      35.0   \n",
       "12990      11.6         NNW           41.0      NW       26.0      23.0   \n",
       "12991       3.0         WNW           52.0     NNW       26.0      45.0   \n",
       "12992      10.2         WNW           37.0     NNW       20.0      47.0   \n",
       "12993       7.9         NNW           67.0      NW       17.0      64.0   \n",
       "\n",
       "       Pressure  Cloud  Temp RainToday RainTomorrow  \n",
       "0         997.6    7.0  19.8       Yes          Yes  \n",
       "1        1014.0    4.0  10.7       Yes           No  \n",
       "2        1016.6    5.0  15.4        No          Yes  \n",
       "3        1010.4    2.0  34.6        No           No  \n",
       "4        1016.4    7.0  24.3        No           No  \n",
       "...         ...    ...   ...       ...          ...  \n",
       "12989       NaN    NaN  16.1        No           No  \n",
       "12990    1017.9    3.0  27.7        No           No  \n",
       "12991    1013.3    NaN  18.6        No           No  \n",
       "12992    1020.3    4.0  20.0        No           No  \n",
       "12993    1010.2    1.0  19.9       Yes           No  \n",
       "\n",
       "[12994 rows x 17 columns]"
      ]
     },
     "execution_count": 48,
     "metadata": {},
     "output_type": "execute_result"
    }
   ],
   "source": [
    "df = pd.DataFrame(test_raw)\n",
    "df['RainTomorrow'] = RT \n",
    "df"
   ]
  },
  {
   "cell_type": "code",
   "execution_count": 50,
   "metadata": {},
   "outputs": [],
   "source": [
    "# Export new data\n",
    "df.to_csv(r'Desktop\\test_raw.csv', index = False)"
   ]
  },
  {
   "cell_type": "markdown",
   "metadata": {},
   "source": []
  },
  {
   "cell_type": "markdown",
   "metadata": {},
   "source": [
    "# Interpretation\n",
    "\n",
    "The first machine learning algorithm I performed on the training data set is Clustering Analysis.\n",
    "Clustering Analysis is a technique for unsupervised learning. \n",
    "By using the scikit-learn library, I was able to find natural feature groups of the data set.\n",
    "K-means algorithm allowed me to categorize the data in to k-number of subgroups. In this data set, I used the number of cluster = 2, random state = 6.\n",
    "In order to find the optimal number of clusters, I used the Elbow method for determination.\n",
    "By plotting, it looks like the optimal number of cluster for this data set is 5. However, we want the predicted values to be 0 or 1 (Yes or No). \n",
    "\n",
    "The second machine learning algorithm I performed here is Decision Tree model, by training the train data set to construct a general model to apply on the test data in order to predict our target variable \"RainTomorrow\".\n",
    "Decision Tree model is an important method for machine learning that is simple yet accurate.\n",
    "By using various functions from the scikit-learn library, I constructed a trained model by training the \"training data\" of weather forecast. After careful preprocessing steps; taking care of missing values & categorical variables, etc. With Decision tree classifier, I was able to predict the target values \"RainTomorrow\", followed by the plot for ROC & AUC curves. ROC(receiver operating characteristic) curve is a probability curve which is used for visualization of the diagnosis of a binary classification system, while AUC(Area Under The Curve) tells degree or measure of separability. \n",
    "\n",
    "The third method I used to predict our target variable \"RainTomorrow\" is Naive Bayes Classification.\n",
    "Naive Bayes Classification is a technique that used the Bayes Theorem for feature classification.\n",
    "I constructed a model by using the scikit-learn library, and predicted the target variable \"RainTomorrow\".\n",
    "\n",
    "After performing multiple machine learning techniques to predict the target variables \"RainTomorrow\", I added the column \"RainTomorrow\" in the test data set then expoted it as csv file."
   ]
  }
 ],
 "metadata": {
  "kernelspec": {
   "display_name": "Python 3",
   "language": "python",
   "name": "python3"
  },
  "language_info": {
   "codemirror_mode": {
    "name": "ipython",
    "version": 3
   },
   "file_extension": ".py",
   "mimetype": "text/x-python",
   "name": "python",
   "nbconvert_exporter": "python",
   "pygments_lexer": "ipython3",
   "version": "3.6.6"
  }
 },
 "nbformat": 4,
 "nbformat_minor": 4
}
